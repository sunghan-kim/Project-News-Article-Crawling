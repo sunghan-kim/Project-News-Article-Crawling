{
 "cells": [
  {
   "cell_type": "markdown",
   "metadata": {},
   "source": [
    "# 1. 디렉토리 탐색"
   ]
  },
  {
   "cell_type": "markdown",
   "metadata": {},
   "source": [
    "## 참고 링크\n",
    "\n",
    "- [https://wikidocs.net/39](https://wikidocs.net/39)\n",
    "- [https://itholic.github.io/python-listdir-glob/](https://itholic.github.io/python-listdir-glob/)"
   ]
  },
  {
   "cell_type": "markdown",
   "metadata": {},
   "source": [
    "<br>\n",
    "\n",
    "## 주요 함수"
   ]
  },
  {
   "cell_type": "markdown",
   "metadata": {},
   "source": [
    "### `os.listdir()`"
   ]
  },
  {
   "cell_type": "code",
   "execution_count": 101,
   "metadata": {},
   "outputs": [
    {
     "name": "stdout",
     "output_type": "stream",
     "text": [
      "['IT', '_공통', '금융공기업', '금융그룹', '보험사', '은행', '증권사', '카드사', '핀테크']\n"
     ]
    }
   ],
   "source": [
    "import os\n",
    "\n",
    "ROOT_PATH = \"..\\\\rawdata\\\\기업별 관련기사\"\n",
    "\n",
    "print(os.listdir(ROOT_PATH))"
   ]
  },
  {
   "cell_type": "markdown",
   "metadata": {},
   "source": [
    "<br>\n",
    "\n",
    "### `os.path.join()`"
   ]
  },
  {
   "cell_type": "code",
   "execution_count": 103,
   "metadata": {},
   "outputs": [
    {
     "name": "stdout",
     "output_type": "stream",
     "text": [
      "..\\rawdata\\기업별 관련기사\\IT\n"
     ]
    }
   ],
   "source": [
    "import os\n",
    "\n",
    "ROOT_PATH = \"..\\\\rawdata\\\\기업별 관련기사\"\n",
    "\n",
    "folder = os.listdir(ROOT_PATH)[0]\n",
    "print(os.path.join(ROOT_PATH, folder))"
   ]
  },
  {
   "cell_type": "markdown",
   "metadata": {},
   "source": [
    "<br>\n",
    "\n",
    "### `str.endswith()`"
   ]
  },
  {
   "cell_type": "code",
   "execution_count": 105,
   "metadata": {},
   "outputs": [
    {
     "name": "stdout",
     "output_type": "stream",
     "text": [
      "True\n",
      "False\n"
     ]
    }
   ],
   "source": [
    "file_sample = \"abcd.txt\"\n",
    "\n",
    "print(file_sample.endswith(\".txt\"))\n",
    "print(file_sample.endswith(\".md\"))"
   ]
  },
  {
   "cell_type": "markdown",
   "metadata": {},
   "source": [
    "<br>\n",
    "\n",
    "### `os.path.splitext()`"
   ]
  },
  {
   "cell_type": "code",
   "execution_count": 108,
   "metadata": {},
   "outputs": [
    {
     "name": "stdout",
     "output_type": "stream",
     "text": [
      "('abcd', '.txt')\n",
      ".txt\n",
      "('abcd', '')\n"
     ]
    }
   ],
   "source": [
    "import os\n",
    "\n",
    "file_sample = \"abcd.txt\"\n",
    "sample = \"abcd\"\n",
    "\n",
    "print(os.path.splitext(file_sample))\n",
    "print(os.path.splitext(file_sample)[-1])\n",
    "print(os.path.splitext(sample))"
   ]
  },
  {
   "cell_type": "markdown",
   "metadata": {},
   "source": [
    "## 1.1 재귀 함수 이용"
   ]
  },
  {
   "cell_type": "code",
   "execution_count": 90,
   "metadata": {},
   "outputs": [],
   "source": [
    "import os\n",
    "\n",
    "def search(dirname, saveList):\n",
    "    filenames = os.listdir(dirname)\n",
    "    for filename in filenames:\n",
    "        full_filename = os.path.join(dirname, filename)\n",
    "        if not full_filename.endswith(\".md\"):\n",
    "            search(full_filename, saveList)\n",
    "        else:\n",
    "            if saveList is not None:\n",
    "                saveList.append(full_filename)"
   ]
  },
  {
   "cell_type": "code",
   "execution_count": 98,
   "metadata": {},
   "outputs": [
    {
     "data": {
      "text/plain": [
       "['..\\\\rawdata\\\\기업별 관련기사\\\\IT\\\\네이버\\\\20200416 네이버 먹거리, 우리가 키운다 vs 카카오 같이 키우실 분.md',\n",
       " '..\\\\rawdata\\\\기업별 관련기사\\\\IT\\\\우리에프아이에스\\\\20200421 창업부터 독립까지 밀어준다…사내벤처 3곳 키우는 우리금융.md',\n",
       " '..\\\\rawdata\\\\기업별 관련기사\\\\IT\\\\카카오\\\\20200416 네이버 먹거리, 우리가 키운다 vs 카카오 같이 키우실 분.md',\n",
       " \"..\\\\rawdata\\\\기업별 관련기사\\\\_공통\\\\20200204 보험업계는 '제로성장'이라는데, 은행들은 왜 보험사를 사들일까.md\",\n",
       " \"..\\\\rawdata\\\\기업별 관련기사\\\\_공통\\\\20200206 '디지털' 속도 내는 보험업계…디지털보험사 줄잇는다.md\",\n",
       " '..\\\\rawdata\\\\기업별 관련기사\\\\_공통\\\\20200206 ‘역대 호황’ 누린 은행들의 고민…“올해는 힘들다”.md',\n",
       " '..\\\\rawdata\\\\기업별 관련기사\\\\_공통\\\\20200206 “길 잃은 돈 잡아라”… 은행·핀테크 ‘소액 자산관리 전쟁’.md',\n",
       " '..\\\\rawdata\\\\기업별 관련기사\\\\_공통\\\\20200206 김정태의 승부수…금융지주 초대형IB경쟁 본격화.md',\n",
       " \"..\\\\rawdata\\\\기업별 관련기사\\\\_공통\\\\20200219 '신탁상품' 못키운 한국…노인들 'DLF'로 몰았다.md\",\n",
       " \"..\\\\rawdata\\\\기업별 관련기사\\\\_공통\\\\20200219 '지수 ETF'로 피신하는 외국인·기관.md\"]"
      ]
     },
     "execution_count": 98,
     "metadata": {},
     "output_type": "execute_result"
    }
   ],
   "source": [
    "ROOT_PATH = \"..\\\\rawdata\\\\기업별 관련기사\"\n",
    "\n",
    "md_file_list = []\n",
    "search(ROOT_PATH, md_file_list)\n",
    "#md_file_list\n",
    "md_file_list[:10]"
   ]
  },
  {
   "cell_type": "markdown",
   "metadata": {},
   "source": [
    "<br>\n",
    "\n",
    "## 1.2 `os.walk()` 이용"
   ]
  },
  {
   "cell_type": "code",
   "execution_count": 100,
   "metadata": {},
   "outputs": [
    {
     "data": {
      "text/plain": [
       "['..\\\\rawdata\\\\기업별 관련기사\\\\IT\\\\네이버\\\\20200416 네이버 먹거리, 우리가 키운다 vs 카카오 같이 키우실 분.md',\n",
       " '..\\\\rawdata\\\\기업별 관련기사\\\\IT\\\\우리에프아이에스\\\\20200421 창업부터 독립까지 밀어준다…사내벤처 3곳 키우는 우리금융.md',\n",
       " '..\\\\rawdata\\\\기업별 관련기사\\\\IT\\\\카카오\\\\20200416 네이버 먹거리, 우리가 키운다 vs 카카오 같이 키우실 분.md',\n",
       " \"..\\\\rawdata\\\\기업별 관련기사\\\\_공통\\\\20200204 보험업계는 '제로성장'이라는데, 은행들은 왜 보험사를 사들일까.md\",\n",
       " \"..\\\\rawdata\\\\기업별 관련기사\\\\_공통\\\\20200206 '디지털' 속도 내는 보험업계…디지털보험사 줄잇는다.md\",\n",
       " '..\\\\rawdata\\\\기업별 관련기사\\\\_공통\\\\20200206 ‘역대 호황’ 누린 은행들의 고민…“올해는 힘들다”.md',\n",
       " '..\\\\rawdata\\\\기업별 관련기사\\\\_공통\\\\20200206 “길 잃은 돈 잡아라”… 은행·핀테크 ‘소액 자산관리 전쟁’.md',\n",
       " '..\\\\rawdata\\\\기업별 관련기사\\\\_공통\\\\20200206 김정태의 승부수…금융지주 초대형IB경쟁 본격화.md',\n",
       " \"..\\\\rawdata\\\\기업별 관련기사\\\\_공통\\\\20200219 '신탁상품' 못키운 한국…노인들 'DLF'로 몰았다.md\",\n",
       " \"..\\\\rawdata\\\\기업별 관련기사\\\\_공통\\\\20200219 '지수 ETF'로 피신하는 외국인·기관.md\"]"
      ]
     },
     "execution_count": 100,
     "metadata": {},
     "output_type": "execute_result"
    }
   ],
   "source": [
    "import os\n",
    "\n",
    "result = []\n",
    "\n",
    "for (path, dir, files) in os.walk(ROOT_PATH):\n",
    "    \n",
    "    for filename in files:\n",
    "        ext = os.path.splitext(filename)[-1] # os.path.splitext() : 파일명과 확장자 분리\n",
    "        if ext == \".md\":\n",
    "            result.append(os.path.join(path, filename))\n",
    "            \n",
    "#result\n",
    "result[:10]"
   ]
  }
 ],
 "metadata": {
  "kernelspec": {
   "display_name": "Python 3",
   "language": "python",
   "name": "python3"
  },
  "language_info": {
   "codemirror_mode": {
    "name": "ipython",
    "version": 3
   },
   "file_extension": ".py",
   "mimetype": "text/x-python",
   "name": "python",
   "nbconvert_exporter": "python",
   "pygments_lexer": "ipython3",
   "version": "3.7.4"
  }
 },
 "nbformat": 4,
 "nbformat_minor": 4
}
