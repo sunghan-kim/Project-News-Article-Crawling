{
 "cells": [
  {
   "cell_type": "markdown",
   "metadata": {},
   "source": [
    "# 1. 파일 읽고 쓰기"
   ]
  },
  {
   "cell_type": "markdown",
   "metadata": {},
   "source": [
    "## 참고 링크\n",
    "\n",
    "- [https://wikidocs.net/26](https://wikidocs.net/26)"
   ]
  },
  {
   "cell_type": "markdown",
   "metadata": {},
   "source": [
    "<br>\n",
    "\n",
    "## 1.1 `open()`\n",
    "\n",
    "- `파일 이름`과 `파일 열기 모드`를 입력값으로 받음\n",
    "- 결괏값으로 파일 객체를 돌려준다."
   ]
  },
  {
   "cell_type": "markdown",
   "metadata": {},
   "source": [
    "<br>\n",
    "\n",
    "### 1.1.1 파일 열기 모드\n",
    "\n",
    "- `r` : 읽기 모드 (파일을 읽기만 할 때 사용)\n",
    "- `w` : 쓰기 모드 (파일에 내용을 쓸 때 사용)\n",
    "- `a` : 추가 모드 (파일의 마지막에 새로운 내용을 추가 시킬 때 사용)"
   ]
  },
  {
   "cell_type": "markdown",
   "metadata": {},
   "source": [
    "<br>\n",
    "\n",
    "## 1.2 파일 쓰기 (`'w'`)"
   ]
  },
  {
   "cell_type": "code",
   "execution_count": 1,
   "metadata": {},
   "outputs": [],
   "source": [
    "# new.txt 파일 생성\n",
    "# 기존에 new.txt 파일이 존재할 경우 해당 파일 삭제 후 새로운 파일이 생성된다.\n",
    "f = open(\"new.txt\", \"w\")\n",
    "\n",
    "for i in range(1, 11):\n",
    "    data = \"%d번 째 줄입니다.\\n\" % i\n",
    "    f.write(data)\n",
    "\n",
    "f.close()"
   ]
  },
  {
   "cell_type": "code",
   "execution_count": 2,
   "metadata": {},
   "outputs": [
    {
     "data": {
      "text/plain": [
       "['.ipynb_checkpoints',\n",
       " 'directory-search.ipynb',\n",
       " 'file-read-write.ipynb',\n",
       " 'markdown-data-handling.ipynb',\n",
       " 'new.txt',\n",
       " 'sample.md']"
      ]
     },
     "execution_count": 2,
     "metadata": {},
     "output_type": "execute_result"
    }
   ],
   "source": [
    "import os\n",
    "\n",
    "os.listdir('./')"
   ]
  },
  {
   "cell_type": "markdown",
   "metadata": {},
   "source": [
    "<br>\n",
    "\n",
    "## 1.3 파일 읽기 (`'r'`)"
   ]
  },
  {
   "cell_type": "markdown",
   "metadata": {},
   "source": [
    "### 1.3.1 `readline()`"
   ]
  },
  {
   "cell_type": "code",
   "execution_count": 5,
   "metadata": {},
   "outputs": [
    {
     "name": "stdout",
     "output_type": "stream",
     "text": [
      "1번 째 줄입니다.\n",
      "\n"
     ]
    }
   ],
   "source": [
    "f = open('new.txt', 'r')\n",
    "line = f.readline() # 한 줄 출력\n",
    "print(line)\n",
    "f.close()"
   ]
  },
  {
   "cell_type": "code",
   "execution_count": 6,
   "metadata": {},
   "outputs": [
    {
     "name": "stdout",
     "output_type": "stream",
     "text": [
      "1번 째 줄입니다.\n",
      "\n",
      "2번 째 줄입니다.\n",
      "\n",
      "3번 째 줄입니다.\n",
      "\n",
      "4번 째 줄입니다.\n",
      "\n",
      "5번 째 줄입니다.\n",
      "\n",
      "6번 째 줄입니다.\n",
      "\n",
      "7번 째 줄입니다.\n",
      "\n",
      "8번 째 줄입니다.\n",
      "\n",
      "9번 째 줄입니다.\n",
      "\n",
      "10번 째 줄입니다.\n",
      "\n"
     ]
    }
   ],
   "source": [
    "f = open('new.txt', 'r')\n",
    "while True:\n",
    "    line = f.readline()\n",
    "    if not line: break\n",
    "    print(line)\n",
    "f.close()"
   ]
  },
  {
   "cell_type": "markdown",
   "metadata": {},
   "source": [
    "<br>\n",
    "\n",
    "### 1.3.2 `readlines()`"
   ]
  },
  {
   "cell_type": "code",
   "execution_count": 10,
   "metadata": {},
   "outputs": [
    {
     "name": "stdout",
     "output_type": "stream",
     "text": [
      "['1번 째 줄입니다.\\n', '2번 째 줄입니다.\\n', '3번 째 줄입니다.\\n', '4번 째 줄입니다.\\n', '5번 째 줄입니다.\\n', '6번 째 줄입니다.\\n', '7번 째 줄입니다.\\n', '8번 째 줄입니다.\\n', '9번 째 줄입니다.\\n', '10번 째 줄입니다.\\n']\n",
      "==============================\n",
      "1번 째 줄입니다.\n",
      "\n",
      "2번 째 줄입니다.\n",
      "\n",
      "3번 째 줄입니다.\n",
      "\n",
      "4번 째 줄입니다.\n",
      "\n",
      "5번 째 줄입니다.\n",
      "\n",
      "6번 째 줄입니다.\n",
      "\n",
      "7번 째 줄입니다.\n",
      "\n",
      "8번 째 줄입니다.\n",
      "\n",
      "9번 째 줄입니다.\n",
      "\n",
      "10번 째 줄입니다.\n",
      "\n"
     ]
    }
   ],
   "source": [
    "f = open('new.txt', 'r')\n",
    "lines = f.readlines()\n",
    "\n",
    "print(lines)\n",
    "\n",
    "print(\"=\"*30)\n",
    "\n",
    "for line in lines:\n",
    "    print(line)\n",
    "f.close()"
   ]
  },
  {
   "cell_type": "markdown",
   "metadata": {},
   "source": [
    "<br>\n",
    "\n",
    "### 1.3.3 `read()`"
   ]
  },
  {
   "cell_type": "code",
   "execution_count": 8,
   "metadata": {},
   "outputs": [
    {
     "name": "stdout",
     "output_type": "stream",
     "text": [
      "1번 째 줄입니다.\n",
      "2번 째 줄입니다.\n",
      "3번 째 줄입니다.\n",
      "4번 째 줄입니다.\n",
      "5번 째 줄입니다.\n",
      "6번 째 줄입니다.\n",
      "7번 째 줄입니다.\n",
      "8번 째 줄입니다.\n",
      "9번 째 줄입니다.\n",
      "10번 째 줄입니다.\n",
      "\n"
     ]
    }
   ],
   "source": [
    "f = open('new.txt', 'r')\n",
    "data = f.read()\n",
    "print(data)\n",
    "f.close()"
   ]
  },
  {
   "cell_type": "markdown",
   "metadata": {},
   "source": [
    "<br>\n",
    "\n",
    "## 1.4 파일 내용 추가 (`'a'`)"
   ]
  },
  {
   "cell_type": "code",
   "execution_count": 11,
   "metadata": {},
   "outputs": [],
   "source": [
    "f = open('new.txt', 'a')\n",
    "\n",
    "for i in range(11, 20):\n",
    "    data = \"%d번 째 줄입니다.\\n\" % i\n",
    "    f.write(data)\n",
    "f.close()"
   ]
  },
  {
   "cell_type": "code",
   "execution_count": 12,
   "metadata": {},
   "outputs": [
    {
     "name": "stdout",
     "output_type": "stream",
     "text": [
      "1번 째 줄입니다.\n",
      "2번 째 줄입니다.\n",
      "3번 째 줄입니다.\n",
      "4번 째 줄입니다.\n",
      "5번 째 줄입니다.\n",
      "6번 째 줄입니다.\n",
      "7번 째 줄입니다.\n",
      "8번 째 줄입니다.\n",
      "9번 째 줄입니다.\n",
      "10번 째 줄입니다.\n",
      "11번 째 줄입니다.\n",
      "12번 째 줄입니다.\n",
      "13번 째 줄입니다.\n",
      "14번 째 줄입니다.\n",
      "15번 째 줄입니다.\n",
      "16번 째 줄입니다.\n",
      "17번 째 줄입니다.\n",
      "18번 째 줄입니다.\n",
      "19번 째 줄입니다.\n",
      "\n"
     ]
    }
   ],
   "source": [
    "f = open('new.txt', 'r')\n",
    "data = f.read()\n",
    "print(data)"
   ]
  },
  {
   "cell_type": "markdown",
   "metadata": {},
   "source": [
    "<br>\n",
    "\n",
    "## 1.5 `with`문 사용\n",
    "\n",
    "- `with`문을 사용하면 `f.close()`를 별도로 해주지 않아도 된다.\n",
    "- `with` 블록을 벗어나는 순간 열린 파일 객체 `f`가 자동으로 close된다."
   ]
  },
  {
   "cell_type": "code",
   "execution_count": 13,
   "metadata": {},
   "outputs": [
    {
     "name": "stdout",
     "output_type": "stream",
     "text": [
      "1번 째 줄입니다.\n",
      "2번 째 줄입니다.\n",
      "3번 째 줄입니다.\n",
      "4번 째 줄입니다.\n",
      "5번 째 줄입니다.\n",
      "6번 째 줄입니다.\n",
      "7번 째 줄입니다.\n",
      "8번 째 줄입니다.\n",
      "9번 째 줄입니다.\n",
      "10번 째 줄입니다.\n",
      "11번 째 줄입니다.\n",
      "12번 째 줄입니다.\n",
      "13번 째 줄입니다.\n",
      "14번 째 줄입니다.\n",
      "15번 째 줄입니다.\n",
      "16번 째 줄입니다.\n",
      "17번 째 줄입니다.\n",
      "18번 째 줄입니다.\n",
      "19번 째 줄입니다.\n",
      "\n"
     ]
    }
   ],
   "source": [
    "with open('new.txt', 'r') as f:\n",
    "    data = f.read()\n",
    "    print(data)"
   ]
  },
  {
   "cell_type": "markdown",
   "metadata": {},
   "source": [
    "<br>\n",
    "\n",
    "## 1.6 `sys` 모듈로 매개변수 주기"
   ]
  },
  {
   "cell_type": "markdown",
   "metadata": {},
   "source": [
    "### 1.6.1 `type` 명령어\n",
    "\n",
    "- `type` 명령어 바로 뒤에 적힌 파일 이름을 인수로 받아 그 내용을 출력해주는 명령 프롬프트 명령어\n",
    "-다음과 같이 명령행에서 매개변수를 직접 주어 프로그램을 실행하는 방식을 따른다.\n",
    "\n",
    "> 명령어 [인수1 인수2 ...]\n",
    "\n",
    "- 이러한 기능을 파이썬 프로그램에서도 적용할 수 있다."
   ]
  },
  {
   "cell_type": "markdown",
   "metadata": {},
   "source": [
    "<br>\n",
    "\n",
    "### 1.6.2 `sys.argv`\n",
    "\n",
    "- 파이썬에서는 `sys` 모듈을 사용하여 매개변수를 직접 줄 수 있다.\n",
    "- `sys` 모듈의 `argv`는 명령 창에서 입력한 인수를 의미한다.\n",
    "- 첫 번째 인수는 `argv[0]`이 되고, 두 번째 인수는 `argv[1]`이 된다.\n",
    "\n",
    "$\\quad$ ![](https://wikidocs.net/images/page/26/04_005.png)"
   ]
  },
  {
   "cell_type": "code",
   "execution_count": 15,
   "metadata": {},
   "outputs": [
    {
     "name": "stdout",
     "output_type": "stream",
     "text": [
      "Writing sys1.py\n"
     ]
    }
   ],
   "source": [
    "%%writefile sys1.py\n",
    "\n",
    "import sys\n",
    "\n",
    "args = sys.argv[1:]\n",
    "for i in args:\n",
    "    print(i)"
   ]
  },
  {
   "cell_type": "code",
   "execution_count": 19,
   "metadata": {},
   "outputs": [],
   "source": [
    "# %load sys1.py\n",
    "\n",
    "import sys\n",
    "\n",
    "args = sys.argv[1:]\n",
    "for i in args:\n",
    "    print(i)\n"
   ]
  },
  {
   "cell_type": "code",
   "execution_count": 17,
   "metadata": {},
   "outputs": [
    {
     "name": "stdout",
     "output_type": "stream",
     "text": [
      "aaa\n",
      "bbb\n",
      "ccc\n"
     ]
    }
   ],
   "source": [
    "%run sys1.py aaa bbb ccc"
   ]
  },
  {
   "cell_type": "code",
   "execution_count": 20,
   "metadata": {},
   "outputs": [
    {
     "name": "stdout",
     "output_type": "stream",
     "text": [
      "Writing sys2.py\n"
     ]
    }
   ],
   "source": [
    "%%writefile sys2.py\n",
    "\n",
    "import sys\n",
    "args = sys.argv[1:]\n",
    "for i in args:\n",
    "    print(i.upper(), end=' ')"
   ]
  },
  {
   "cell_type": "code",
   "execution_count": 21,
   "metadata": {},
   "outputs": [
    {
     "name": "stdout",
     "output_type": "stream",
     "text": [
      "LIFE IS TOO SHORT, YOU NEED PYTHON "
     ]
    }
   ],
   "source": [
    "%run sys2.py life is too short, you need python"
   ]
  }
 ],
 "metadata": {
  "kernelspec": {
   "display_name": "Python 3",
   "language": "python",
   "name": "python3"
  },
  "language_info": {
   "codemirror_mode": {
    "name": "ipython",
    "version": 3
   },
   "file_extension": ".py",
   "mimetype": "text/x-python",
   "name": "python",
   "nbconvert_exporter": "python",
   "pygments_lexer": "ipython3",
   "version": "3.6.9"
  }
 },
 "nbformat": 4,
 "nbformat_minor": 4
}
