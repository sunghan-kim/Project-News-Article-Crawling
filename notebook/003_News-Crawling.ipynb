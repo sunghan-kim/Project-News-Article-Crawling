{
 "cells": [
  {
   "cell_type": "markdown",
   "metadata": {},
   "source": [
    "# 3. 뉴스 기사 크롤링"
   ]
  },
  {
   "cell_type": "markdown",
   "metadata": {},
   "source": [
    "- 뉴스 홈페이지별로 크롤링 대상이 되는 정보들의 html 속성들이 서로 다를 것이다.\n",
    "- 그러므로 각 뉴스 홈페이지별 뉴스 크롤링 방법을 따로 정의해야 한다."
   ]
  },
  {
   "cell_type": "markdown",
   "metadata": {},
   "source": [
    "**크롤링 대상 데이터**\n",
    "\n",
    "- URL\n",
    "- 신문사\n",
    "- 작성일자\n",
    "- 제목\n",
    "- 본문"
   ]
  },
  {
   "cell_type": "code",
   "execution_count": null,
   "metadata": {},
   "outputs": [],
   "source": []
  }
 ],
 "metadata": {
  "kernelspec": {
   "display_name": "Python 3",
   "language": "python",
   "name": "python3"
  },
  "language_info": {
   "codemirror_mode": {
    "name": "ipython",
    "version": 3
   },
   "file_extension": ".py",
   "mimetype": "text/x-python",
   "name": "python",
   "nbconvert_exporter": "python",
   "pygments_lexer": "ipython3",
   "version": "3.7.4"
  }
 },
 "nbformat": 4,
 "nbformat_minor": 4
}
