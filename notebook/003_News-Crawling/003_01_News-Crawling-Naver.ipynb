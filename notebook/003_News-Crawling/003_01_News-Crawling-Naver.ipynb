{
 "cells": [
  {
   "cell_type": "markdown",
   "metadata": {},
   "source": [
    "## 3.1 네이버 뉴스 크롤링"
   ]
  },
  {
   "cell_type": "code",
   "execution_count": 2,
   "metadata": {},
   "outputs": [
    {
     "data": {
      "text/html": [
       "<div>\n",
       "<style scoped>\n",
       "    .dataframe tbody tr th:only-of-type {\n",
       "        vertical-align: middle;\n",
       "    }\n",
       "\n",
       "    .dataframe tbody tr th {\n",
       "        vertical-align: top;\n",
       "    }\n",
       "\n",
       "    .dataframe thead th {\n",
       "        text-align: right;\n",
       "    }\n",
       "</style>\n",
       "<table border=\"1\" class=\"dataframe\">\n",
       "  <thead>\n",
       "    <tr style=\"text-align: right;\">\n",
       "      <th></th>\n",
       "      <th>NewsDate</th>\n",
       "      <th>NewsTitle</th>\n",
       "      <th>Path</th>\n",
       "      <th>URL</th>\n",
       "    </tr>\n",
       "  </thead>\n",
       "  <tbody>\n",
       "    <tr>\n",
       "      <td>0</td>\n",
       "      <td>20200129</td>\n",
       "      <td>농협은행, 전 영업점에 방역 작업...'우한 폐렴' 확산 방지 총력</td>\n",
       "      <td>..\\rawdata\\기업별 관련기사\\은행\\NH농협은행\\20200129 농협은행, 전...</td>\n",
       "      <td>https://news.naver.com/main/read.nhn?mode=LS2D...</td>\n",
       "    </tr>\n",
       "    <tr>\n",
       "      <td>1</td>\n",
       "      <td>20200129</td>\n",
       "      <td>윤종원 제26대 IBK기업은행장 취임식</td>\n",
       "      <td>..\\rawdata\\기업별 관련기사\\은행\\IBK기업은행\\20200129 윤종원 제2...</td>\n",
       "      <td>https://news.naver.com/main/read.nhn?mode=LS2D...</td>\n",
       "    </tr>\n",
       "    <tr>\n",
       "      <td>2</td>\n",
       "      <td>20200131</td>\n",
       "      <td>신한銀의 파격실험 영업점, 돈 안벌어도 OK</td>\n",
       "      <td>..\\rawdata\\기업별 관련기사\\은행\\신한은행\\20200131 신한銀의 파격실험...</td>\n",
       "      <td>https://www.hankyung.com/economy/article/20200...</td>\n",
       "    </tr>\n",
       "    <tr>\n",
       "      <td>3</td>\n",
       "      <td>20200203</td>\n",
       "      <td>국민은행 디지털 전환 첨병된 '인사이트 지점'</td>\n",
       "      <td>..\\rawdata\\기업별 관련기사\\은행\\KB국민은행\\20200203 국민은행 디지...</td>\n",
       "      <td>https://news.naver.com/main/read.nhn?mode=LS2D...</td>\n",
       "    </tr>\n",
       "    <tr>\n",
       "      <td>4</td>\n",
       "      <td>20200203</td>\n",
       "      <td>신한은행 지점 암행평가 270곳 펀드 판매정지…질적 도약 기회</td>\n",
       "      <td>..\\rawdata\\기업별 관련기사\\은행\\신한은행\\20200203 신한은행 지점 암...</td>\n",
       "      <td>http://news.mtn.co.kr/newscenter/news_viewer.m...</td>\n",
       "    </tr>\n",
       "  </tbody>\n",
       "</table>\n",
       "</div>"
      ],
      "text/plain": [
       "   NewsDate                              NewsTitle  \\\n",
       "0  20200129  농협은행, 전 영업점에 방역 작업...'우한 폐렴' 확산 방지 총력   \n",
       "1  20200129                  윤종원 제26대 IBK기업은행장 취임식   \n",
       "2  20200131               신한銀의 파격실험 영업점, 돈 안벌어도 OK   \n",
       "3  20200203              국민은행 디지털 전환 첨병된 '인사이트 지점'   \n",
       "4  20200203     신한은행 지점 암행평가 270곳 펀드 판매정지…질적 도약 기회   \n",
       "\n",
       "                                                Path  \\\n",
       "0  ..\\rawdata\\기업별 관련기사\\은행\\NH농협은행\\20200129 농협은행, 전...   \n",
       "1  ..\\rawdata\\기업별 관련기사\\은행\\IBK기업은행\\20200129 윤종원 제2...   \n",
       "2  ..\\rawdata\\기업별 관련기사\\은행\\신한은행\\20200131 신한銀의 파격실험...   \n",
       "3  ..\\rawdata\\기업별 관련기사\\은행\\KB국민은행\\20200203 국민은행 디지...   \n",
       "4  ..\\rawdata\\기업별 관련기사\\은행\\신한은행\\20200203 신한은행 지점 암...   \n",
       "\n",
       "                                                 URL  \n",
       "0  https://news.naver.com/main/read.nhn?mode=LS2D...  \n",
       "1  https://news.naver.com/main/read.nhn?mode=LS2D...  \n",
       "2  https://www.hankyung.com/economy/article/20200...  \n",
       "3  https://news.naver.com/main/read.nhn?mode=LS2D...  \n",
       "4  http://news.mtn.co.kr/newscenter/news_viewer.m...  "
      ]
     },
     "execution_count": 2,
     "metadata": {},
     "output_type": "execute_result"
    }
   ],
   "source": [
    "import pandas as pd\n",
    "\n",
    "news_df = pd.read_csv(\"news_info.csv\", encoding=\"utf-8\")\n",
    "news_df.head()"
   ]
  },
  {
   "cell_type": "code",
   "execution_count": 3,
   "metadata": {},
   "outputs": [
    {
     "data": {
      "text/html": [
       "<div>\n",
       "<style scoped>\n",
       "    .dataframe tbody tr th:only-of-type {\n",
       "        vertical-align: middle;\n",
       "    }\n",
       "\n",
       "    .dataframe tbody tr th {\n",
       "        vertical-align: top;\n",
       "    }\n",
       "\n",
       "    .dataframe thead th {\n",
       "        text-align: right;\n",
       "    }\n",
       "</style>\n",
       "<table border=\"1\" class=\"dataframe\">\n",
       "  <thead>\n",
       "    <tr style=\"text-align: right;\">\n",
       "      <th></th>\n",
       "      <th>Domain</th>\n",
       "      <th>Name</th>\n",
       "      <th>Cnt</th>\n",
       "    </tr>\n",
       "  </thead>\n",
       "  <tbody>\n",
       "    <tr>\n",
       "      <td>0</td>\n",
       "      <td>news.naver.com</td>\n",
       "      <td>네이버뉴스</td>\n",
       "      <td>78</td>\n",
       "    </tr>\n",
       "    <tr>\n",
       "      <td>1</td>\n",
       "      <td>www.hankyung.com</td>\n",
       "      <td>한국경제</td>\n",
       "      <td>26</td>\n",
       "    </tr>\n",
       "    <tr>\n",
       "      <td>2</td>\n",
       "      <td>www.mk.co.kr</td>\n",
       "      <td>매일경제</td>\n",
       "      <td>15</td>\n",
       "    </tr>\n",
       "    <tr>\n",
       "      <td>3</td>\n",
       "      <td>m.news.naver.com</td>\n",
       "      <td>네이버뉴스(모바일)</td>\n",
       "      <td>8</td>\n",
       "    </tr>\n",
       "    <tr>\n",
       "      <td>4</td>\n",
       "      <td>www.sedaily.com</td>\n",
       "      <td>서울경제</td>\n",
       "      <td>8</td>\n",
       "    </tr>\n",
       "  </tbody>\n",
       "</table>\n",
       "</div>"
      ],
      "text/plain": [
       "             Domain        Name  Cnt\n",
       "0    news.naver.com       네이버뉴스   78\n",
       "1  www.hankyung.com        한국경제   26\n",
       "2      www.mk.co.kr        매일경제   15\n",
       "3  m.news.naver.com  네이버뉴스(모바일)    8\n",
       "4   www.sedaily.com        서울경제    8"
      ]
     },
     "execution_count": 3,
     "metadata": {},
     "output_type": "execute_result"
    }
   ],
   "source": [
    "homepage_df = pd.read_csv(\"homepage.csv\", encoding=\"utf-8\")\n",
    "homepage_df.head()"
   ]
  },
  {
   "cell_type": "markdown",
   "metadata": {},
   "source": [
    "<br>\n",
    "\n",
    "## 3.1.1 네이버 도메인 종류 확인"
   ]
  },
  {
   "cell_type": "code",
   "execution_count": 13,
   "metadata": {},
   "outputs": [
    {
     "data": {
      "text/html": [
       "<div>\n",
       "<style scoped>\n",
       "    .dataframe tbody tr th:only-of-type {\n",
       "        vertical-align: middle;\n",
       "    }\n",
       "\n",
       "    .dataframe tbody tr th {\n",
       "        vertical-align: top;\n",
       "    }\n",
       "\n",
       "    .dataframe thead th {\n",
       "        text-align: right;\n",
       "    }\n",
       "</style>\n",
       "<table border=\"1\" class=\"dataframe\">\n",
       "  <thead>\n",
       "    <tr style=\"text-align: right;\">\n",
       "      <th></th>\n",
       "      <th>Domain</th>\n",
       "      <th>Name</th>\n",
       "      <th>Cnt</th>\n",
       "    </tr>\n",
       "  </thead>\n",
       "  <tbody>\n",
       "    <tr>\n",
       "      <td>0</td>\n",
       "      <td>news.naver.com</td>\n",
       "      <td>네이버뉴스</td>\n",
       "      <td>78</td>\n",
       "    </tr>\n",
       "    <tr>\n",
       "      <td>1</td>\n",
       "      <td>m.news.naver.com</td>\n",
       "      <td>네이버뉴스(모바일)</td>\n",
       "      <td>8</td>\n",
       "    </tr>\n",
       "    <tr>\n",
       "      <td>2</td>\n",
       "      <td>n.news.naver.com</td>\n",
       "      <td>네이버뉴스(모바일)</td>\n",
       "      <td>5</td>\n",
       "    </tr>\n",
       "  </tbody>\n",
       "</table>\n",
       "</div>"
      ],
      "text/plain": [
       "             Domain        Name  Cnt\n",
       "0    news.naver.com       네이버뉴스   78\n",
       "1  m.news.naver.com  네이버뉴스(모바일)    8\n",
       "2  n.news.naver.com  네이버뉴스(모바일)    5"
      ]
     },
     "execution_count": 13,
     "metadata": {},
     "output_type": "execute_result"
    }
   ],
   "source": [
    "naver_homepage_df = homepage_df.loc[homepage_df[\"Name\"].str.contains(\"네이버\")].reset_index().drop(columns=[\"index\"])\n",
    "naver_homepage_df"
   ]
  },
  {
   "cell_type": "markdown",
   "metadata": {},
   "source": [
    "<br>\n",
    "\n",
    "### 3.1.2 네이버 홈페이지 기사에 해당되는 URL\n",
    "\n",
    "- 네이버 도메인은 3가지 종류가 있다.\n",
    "- 도메인 주소 맨 앞에 `n`과 `m`이 붙은 주소는 모바일 주소이다.\n",
    "- `news_df` 중 `news.naver.com`이 포함되어 있는 데이터들이 모두 네이버 홈페이지 기사라고 볼 수 있다."
   ]
  },
  {
   "cell_type": "code",
   "execution_count": 22,
   "metadata": {},
   "outputs": [
    {
     "data": {
      "text/plain": [
       "'news.naver.com'"
      ]
     },
     "execution_count": 22,
     "metadata": {},
     "output_type": "execute_result"
    }
   ],
   "source": [
    "naver_domain = naver_homepage_df[\"Domain\"][0]\n",
    "naver_domain"
   ]
  },
  {
   "cell_type": "code",
   "execution_count": 40,
   "metadata": {},
   "outputs": [
    {
     "data": {
      "text/plain": [
       "['https://news.naver.com/main/read.nhn?mode=LS2D&mid=shm&sid1=101&sid2=259&oid=014&aid=0004388236',\n",
       " 'https://news.naver.com/main/read.nhn?mode=LS2D&mid=shm&sid1=101&sid2=259&oid=277&aid=0004637897',\n",
       " 'https://news.naver.com/main/read.nhn?mode=LS2D&mid=shm&sid1=101&sid2=259&oid=022&aid=0003440343',\n",
       " 'https://news.naver.com/main/read.nhn?mode=LS2D&mid=shm&sid1=101&sid2=259&oid=366&aid=0000512312',\n",
       " 'https://news.naver.com/main/read.nhn?mode=LS2D&mid=shm&sid1=101&sid2=259&oid=031&aid=0000528562',\n",
       " 'https://news.naver.com/main/read.nhn?mode=LS2D&mid=shm&sid1=101&sid2=259&oid=011&aid=0003700986',\n",
       " 'https://news.naver.com/main/read.nhn?mode=LS2D&mid=shm&sid1=101&sid2=259&oid=029&aid=0002591747',\n",
       " 'https://news.naver.com/main/read.nhn?mode=LS2D&mid=shm&sid1=101&sid2=259&oid=277&aid=0004631863',\n",
       " 'https://news.naver.com/main/read.nhn?mode=LS2D&mid=shm&sid1=101&sid2=259&oid=001&aid=0011465994',\n",
       " 'https://news.naver.com/main/read.nhn?mode=LS2D&mid=shm&sid1=101&sid2=259&oid=001&aid=0011499170',\n",
       " 'https://news.naver.com/main/read.nhn?mode=LS2D&mid=shm&sid1=101&sid2=259&oid=011&aid=0003727035',\n",
       " 'https://n.news.naver.com/article/030/0002878924',\n",
       " 'https://news.naver.com/main/read.nhn?mode=LS2D&mid=shm&sid1=101&sid2=259&oid=030&aid=0002873543',\n",
       " 'https://news.naver.com/main/read.nhn?mode=LS2D&mid=shm&sid1=101&sid2=259&oid=014&aid=0004385293',\n",
       " 'https://n.news.naver.com/article/421/0004439723',\n",
       " 'https://news.naver.com/main/read.nhn?mode=LS2D&mid=shm&sid1=101&sid2=259&oid=003&aid=0009719052',\n",
       " 'https://news.naver.com/main/read.nhn?mode=LS2D&mid=shm&sid1=101&sid2=259&oid=014&aid=0004378729',\n",
       " 'https://news.naver.com/main/read.nhn?mode=LS2D&mid=shm&sid1=101&sid2=259&oid=014&aid=0004406559',\n",
       " 'https://news.naver.com/main/read.nhn?mode=LS2D&mid=shm&sid1=101&sid2=259&oid=001&aid=0011574587',\n",
       " 'https://news.naver.com/main/read.nhn?mode=LS2D&mid=shm&sid1=101&sid2=259&oid=011&aid=0003700981']"
      ]
     },
     "execution_count": 40,
     "metadata": {},
     "output_type": "execute_result"
    }
   ],
   "source": [
    "naver_urls = [url for url in news_df[\"URL\"] if naver_domain in url]\n",
    "naver_urls = list(set(naver_urls)) # 중복제거\n",
    "naver_urls[:20]"
   ]
  },
  {
   "cell_type": "markdown",
   "metadata": {},
   "source": [
    "<br>\n",
    "\n",
    "### 3.1.3 모바일 URL 분리\n",
    "\n",
    "- 도메인 주소별로 크롤링 방법이 상이할 수 있다.\n",
    "- 그러므로 `m` 또는 `n`으로 시작하는 URL 주소를 분리한다."
   ]
  },
  {
   "cell_type": "code",
   "execution_count": 28,
   "metadata": {},
   "outputs": [
    {
     "data": {
      "text/plain": [
       "['https://m.news.naver.com/read.nhn?mode=LSD&sid1=001&oid=008&aid=0004361321',\n",
       " 'https://m.news.naver.com/read.nhn?mode=LSD&sid1=001&oid=008&aid=0004361323',\n",
       " 'https://m.news.naver.com/read.nhn?mode=LSD&mid=sec&sid1=103&oid=005&aid=0001315714',\n",
       " 'https://m.news.naver.com/read.nhn?mode=LSD&mid=sec&sid1=101&oid=018&aid=0004624668',\n",
       " 'https://m.news.naver.com/read.nhn?mode=LSD&sid1=001&oid=277&aid=0004641674',\n",
       " 'https://m.news.naver.com/read.nhn?mode=LSD&sid1=001&oid=008&aid=0004361320',\n",
       " 'https://m.news.naver.com/read.nhn?mode=LSD&mid=sec&sid1=101&oid=030&aid=0002874283',\n",
       " 'https://m.news.naver.com/read.nhn?mode=LSD&mid=sec&sid1=101&oid=009&aid=0004533150']"
      ]
     },
     "execution_count": 28,
     "metadata": {},
     "output_type": "execute_result"
    }
   ],
   "source": [
    "# 모바일 URL 1 (m.news.naver.com)\n",
    "naver_mobile1_urls = [url for url in naver_urls if \"m.news\" in url]\n",
    "naver_mobile1_urls"
   ]
  },
  {
   "cell_type": "code",
   "execution_count": 29,
   "metadata": {},
   "outputs": [
    {
     "data": {
      "text/plain": [
       "['https://n.news.naver.com/article/030/0002878924',\n",
       " 'https://n.news.naver.com/article/421/0004439723',\n",
       " 'https://n.news.naver.com/article/011/0003719399',\n",
       " 'https://n.news.naver.com/article/025/0002972080',\n",
       " 'https://n.news.naver.com/article/081/0003079568']"
      ]
     },
     "execution_count": 29,
     "metadata": {},
     "output_type": "execute_result"
    }
   ],
   "source": [
    "# 모바일 URL 2 (n.news.naver.com)\n",
    "naver_mobile2_urls = [url for url in naver_urls if \"n.news\" in url]\n",
    "naver_mobile2_urls"
   ]
  },
  {
   "cell_type": "code",
   "execution_count": 41,
   "metadata": {},
   "outputs": [
    {
     "data": {
      "text/plain": [
       "['https://news.naver.com/main/read.nhn?mode=LS2D&mid=shm&sid1=101&sid2=259&oid=014&aid=0004388236',\n",
       " 'https://news.naver.com/main/read.nhn?mode=LS2D&mid=shm&sid1=101&sid2=259&oid=277&aid=0004637897',\n",
       " 'https://news.naver.com/main/read.nhn?mode=LS2D&mid=shm&sid1=101&sid2=259&oid=022&aid=0003440343',\n",
       " 'https://news.naver.com/main/read.nhn?mode=LS2D&mid=shm&sid1=101&sid2=259&oid=366&aid=0000512312',\n",
       " 'https://news.naver.com/main/read.nhn?mode=LS2D&mid=shm&sid1=101&sid2=259&oid=031&aid=0000528562',\n",
       " 'https://news.naver.com/main/read.nhn?mode=LS2D&mid=shm&sid1=101&sid2=259&oid=011&aid=0003700986',\n",
       " 'https://news.naver.com/main/read.nhn?mode=LS2D&mid=shm&sid1=101&sid2=259&oid=029&aid=0002591747',\n",
       " 'https://news.naver.com/main/read.nhn?mode=LS2D&mid=shm&sid1=101&sid2=259&oid=277&aid=0004631863',\n",
       " 'https://news.naver.com/main/read.nhn?mode=LS2D&mid=shm&sid1=101&sid2=259&oid=001&aid=0011465994',\n",
       " 'https://news.naver.com/main/read.nhn?mode=LS2D&mid=shm&sid1=101&sid2=259&oid=001&aid=0011499170']"
      ]
     },
     "execution_count": 41,
     "metadata": {},
     "output_type": "execute_result"
    }
   ],
   "source": [
    "# 웹 URL (news.naver.com)\n",
    "naver_web_urls = [url for url in naver_urls if url not in naver_mobile1_urls + naver_mobile2_urls]\n",
    "naver_web_urls[:10]"
   ]
  },
  {
   "cell_type": "markdown",
   "metadata": {},
   "source": [
    "<br>\n",
    "\n",
    "### 3.1.4 크롤링 방법 정의\n",
    "\n",
    "- 크롤링 대상 데이터\n",
    "  - url 주소(`news_url`)\n",
    "  - 신문사(`news_press`)\n",
    "  - 작성일자(`news_date`)\n",
    "  - 제목(`news_title`)\n",
    "  - 요약(`news_summary`)\n",
    "  - 본문(`news_content`)"
   ]
  },
  {
   "cell_type": "code",
   "execution_count": 42,
   "metadata": {},
   "outputs": [],
   "source": [
    "from bs4 import BeautifulSoup\n",
    "import requests\n",
    "import warnings\n",
    "warnings.filterwarnings('ignore')"
   ]
  },
  {
   "cell_type": "markdown",
   "metadata": {},
   "source": [
    "#### 3.1.4.1 네이버 웹 기사 크롤링 방법 정의"
   ]
  },
  {
   "cell_type": "code",
   "execution_count": 102,
   "metadata": {},
   "outputs": [
    {
     "name": "stdout",
     "output_type": "stream",
     "text": [
      "파이낸셜뉴스\n",
      "소호대출 1년새 17兆 늘린 5대은행..코로나 장기화 땐 연체율 상승 우려\n",
      "2020.03.11. 오후 6:19\n"
     ]
    },
    {
     "data": {
      "text/plain": [
       "['정부 포용적 금융정책 이어지고',\n",
       " '신예대율 규제로 기업대출 늘려',\n",
       " '2월 한달간 1조5525억원 급증',\n",
       " '경기 둔화에 자영업자 ‘직격탄’',\n",
       " '\"은행 부실 뇌관 될수도\" 비상등']"
      ]
     },
     "execution_count": 102,
     "metadata": {},
     "output_type": "execute_result"
    }
   ],
   "source": [
    "news_url = naver_web_urls[0]\n",
    "\n",
    "res = requests.get(news_url)\n",
    "soup = BeautifulSoup(res.content, 'html.parser')\n",
    "\n",
    "# 신문사\n",
    "news_press = soup.select(\"div.press_logo img\")[0]['title']\n",
    "print(news_press)\n",
    "\n",
    "# 제목\n",
    "news_title = soup.select(\"#articleTitle\")[0].text\n",
    "print(news_title)\n",
    "\n",
    "# 작성일자\n",
    "news_date = soup.select(\"div.sponsor span.t11\")[0].text\n",
    "print(news_date)\n",
    "\n",
    "# 본문\n",
    "news_summary = soup.select(\"#articleBodyContents strong.media_end_summary\")[0]\n",
    "news_summary = str(news_summary)\n",
    "type(news_summary)\n",
    "news_summary = news_summary.replace('<strong class=\"media_end_summary\">', \"\")\n",
    "news_summary = news_summary.replace('</strong>', '')\n",
    "news_summary.split(\"<br/>\")"
   ]
  },
  {
   "cell_type": "code",
   "execution_count": null,
   "metadata": {},
   "outputs": [],
   "source": []
  }
 ],
 "metadata": {
  "kernelspec": {
   "display_name": "Python 3",
   "language": "python",
   "name": "python3"
  },
  "language_info": {
   "codemirror_mode": {
    "name": "ipython",
    "version": 3
   },
   "file_extension": ".py",
   "mimetype": "text/x-python",
   "name": "python",
   "nbconvert_exporter": "python",
   "pygments_lexer": "ipython3",
   "version": "3.7.4"
  }
 },
 "nbformat": 4,
 "nbformat_minor": 4
}
