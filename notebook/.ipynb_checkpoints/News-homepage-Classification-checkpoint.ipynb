{
 "cells": [
  {
   "cell_type": "markdown",
   "metadata": {},
   "source": [
    "# 1. 뉴스 홈페이지 분류\n",
    "\n",
    "- 신문사 홈페이지별로 기사 내용이 서로 다른 형태의 html로 구성되어 있을 것이다.\n",
    "- rawdata에 있는 기사들의 홈페이지 목록을 정리한다.\n",
    "- 이를 바탕으로 각 홈페이지별 크롤링 방법을 정의할 예정이다."
   ]
  },
  {
   "cell_type": "markdown",
   "metadata": {},
   "source": [
    "<br>\n",
    "\n",
    "## 1.1 rawdata 디렉토리 탐색\n",
    "\n",
    "- `rawdata` 경로 안에 있는 모든 `.md` 파일 안에 포함된 기사 링크를 얻기 위해 먼저 확장자로 `.md`를 갖는 파일의 경로 및 파일명을 얻는다."
   ]
  },
  {
   "cell_type": "code",
   "execution_count": 73,
   "metadata": {},
   "outputs": [
    {
     "data": {
      "text/plain": [
       "['..\\\\rawdata\\\\기업별 관련기사\\\\IT\\\\네이버\\\\20200416 네이버 먹거리, 우리가 키운다 vs 카카오 같이 키우실 분.md',\n",
       " '..\\\\rawdata\\\\기업별 관련기사\\\\IT\\\\우리에프아이에스\\\\20200421 창업부터 독립까지 밀어준다…사내벤처 3곳 키우는 우리금융.md',\n",
       " '..\\\\rawdata\\\\기업별 관련기사\\\\IT\\\\카카오\\\\20200416 네이버 먹거리, 우리가 키운다 vs 카카오 같이 키우실 분.md',\n",
       " \"..\\\\rawdata\\\\기업별 관련기사\\\\_공통\\\\20200204 보험업계는 '제로성장'이라는데, 은행들은 왜 보험사를 사들일까.md\",\n",
       " \"..\\\\rawdata\\\\기업별 관련기사\\\\_공통\\\\20200206 '디지털' 속도 내는 보험업계…디지털보험사 줄잇는다.md\",\n",
       " '..\\\\rawdata\\\\기업별 관련기사\\\\_공통\\\\20200206 ‘역대 호황’ 누린 은행들의 고민…“올해는 힘들다”.md',\n",
       " '..\\\\rawdata\\\\기업별 관련기사\\\\_공통\\\\20200206 “길 잃은 돈 잡아라”… 은행·핀테크 ‘소액 자산관리 전쟁’.md',\n",
       " '..\\\\rawdata\\\\기업별 관련기사\\\\_공통\\\\20200206 김정태의 승부수…금융지주 초대형IB경쟁 본격화.md',\n",
       " \"..\\\\rawdata\\\\기업별 관련기사\\\\_공통\\\\20200219 '신탁상품' 못키운 한국…노인들 'DLF'로 몰았다.md\",\n",
       " \"..\\\\rawdata\\\\기업별 관련기사\\\\_공통\\\\20200219 '지수 ETF'로 피신하는 외국인·기관.md\"]"
      ]
     },
     "execution_count": 73,
     "metadata": {},
     "output_type": "execute_result"
    }
   ],
   "source": [
    "import os\n",
    "\n",
    "ROOT_PATH = \"..\\\\rawdata\\\\기업별 관련기사\"\n",
    "file_list = []\n",
    "\n",
    "for (path, dir, files) in os.walk(ROOT_PATH):\n",
    "    \n",
    "    for file in files:\n",
    "        ext = os.path.splitext(file)[-1]\n",
    "        \n",
    "        if ext == \".md\":\n",
    "            file_list.append(os.path.join(path, file))\n",
    "            \n",
    "file_list[:10]"
   ]
  },
  {
   "cell_type": "markdown",
   "metadata": {},
   "source": [
    "<br>\n",
    "\n",
    "## 1.2 파일명 추출\n",
    "\n",
    "- 기사 작성일자와 기사 제목이 포함된 파일명을 추출한다."
   ]
  },
  {
   "cell_type": "code",
   "execution_count": 86,
   "metadata": {},
   "outputs": [
    {
     "data": {
      "text/plain": [
       "['20200416 네이버 먹거리, 우리가 키운다 vs 카카오 같이 키우실 분.md',\n",
       " '20200421 창업부터 독립까지 밀어준다…사내벤처 3곳 키우는 우리금융.md',\n",
       " '20200416 네이버 먹거리, 우리가 키운다 vs 카카오 같이 키우실 분.md',\n",
       " \"20200204 보험업계는 '제로성장'이라는데, 은행들은 왜 보험사를 사들일까.md\",\n",
       " \"20200206 '디지털' 속도 내는 보험업계…디지털보험사 줄잇는다.md\",\n",
       " '20200206 ‘역대 호황’ 누린 은행들의 고민…“올해는 힘들다”.md',\n",
       " '20200206 “길 잃은 돈 잡아라”… 은행·핀테크 ‘소액 자산관리 전쟁’.md',\n",
       " '20200206 김정태의 승부수…금융지주 초대형IB경쟁 본격화.md',\n",
       " \"20200219 '신탁상품' 못키운 한국…노인들 'DLF'로 몰았다.md\",\n",
       " \"20200219 '지수 ETF'로 피신하는 외국인·기관.md\"]"
      ]
     },
     "execution_count": 86,
     "metadata": {},
     "output_type": "execute_result"
    }
   ],
   "source": [
    "filename_list = [file.split(\"\\\\\")[-1] for file in file_list]\n",
    "filename_list[:10]"
   ]
  },
  {
   "cell_type": "markdown",
   "metadata": {},
   "source": [
    "<br>\n",
    "\n",
    "## 1.3 기사 작성일자 및 제목 분리\n",
    "\n",
    "- 파일명에서 기사 작성일자와 기사제목을 분리한다."
   ]
  },
  {
   "cell_type": "code",
   "execution_count": 87,
   "metadata": {},
   "outputs": [
    {
     "data": {
      "text/plain": [
       "'20200416'"
      ]
     },
     "execution_count": 87,
     "metadata": {},
     "output_type": "execute_result"
    }
   ],
   "source": [
    "filename_list[0][:8]"
   ]
  },
  {
   "cell_type": "code",
   "execution_count": 88,
   "metadata": {},
   "outputs": [
    {
     "data": {
      "text/plain": [
       "'네이버 먹거리, 우리가 키운다 vs 카카오 같이 키우실 분.md'"
      ]
     },
     "execution_count": 88,
     "metadata": {},
     "output_type": "execute_result"
    }
   ],
   "source": [
    "filename_list[0][9:]"
   ]
  },
  {
   "cell_type": "code",
   "execution_count": 91,
   "metadata": {},
   "outputs": [
    {
     "data": {
      "text/plain": [
       "['20200416',\n",
       " '20200421',\n",
       " '20200416',\n",
       " '20200204',\n",
       " '20200206',\n",
       " '20200206',\n",
       " '20200206',\n",
       " '20200206',\n",
       " '20200219',\n",
       " '20200219']"
      ]
     },
     "execution_count": 91,
     "metadata": {},
     "output_type": "execute_result"
    }
   ],
   "source": [
    "news_date = [filename[:8] for filename in filename_list]\n",
    "news_date[:10]"
   ]
  },
  {
   "cell_type": "code",
   "execution_count": 93,
   "metadata": {},
   "outputs": [
    {
     "data": {
      "text/plain": [
       "['네이버 먹거리, 우리가 키운다 vs 카카오 같이 키우실 분',\n",
       " '창업부터 독립까지 밀어준다…사내벤처 3곳 키우는 우리금융',\n",
       " '네이버 먹거리, 우리가 키운다 vs 카카오 같이 키우실 분',\n",
       " \"보험업계는 '제로성장'이라는데, 은행들은 왜 보험사를 사들일까\",\n",
       " \"'디지털' 속도 내는 보험업계…디지털보험사 줄잇는다\",\n",
       " '‘역대 호황’ 누린 은행들의 고민…“올해는 힘들다”',\n",
       " '“길 잃은 돈 잡아라”… 은행·핀테크 ‘소액 자산관리 전쟁’',\n",
       " '김정태의 승부수…금융지주 초대형IB경쟁 본격화',\n",
       " \"'신탁상품' 못키운 한국…노인들 'DLF'로 몰았다\",\n",
       " \"'지수 ETF'로 피신하는 외국인·기관\"]"
      ]
     },
     "execution_count": 93,
     "metadata": {},
     "output_type": "execute_result"
    }
   ],
   "source": [
    "import os\n",
    "\n",
    "news_title = [os.path.splitext(filename[9:])[0] for filename in filename_list]\n",
    "news_title[:10]"
   ]
  },
  {
   "cell_type": "markdown",
   "metadata": {},
   "source": [
    "<br>\n",
    "\n",
    "## 1.4 데이터프레임 생성\n",
    "\n",
    "- 뉴스 작성일자, 뉴스 제목, 파일 경로를 포함하는 데이터프레임 생성"
   ]
  },
  {
   "cell_type": "code",
   "execution_count": 95,
   "metadata": {},
   "outputs": [
    {
     "data": {
      "text/html": [
       "<div>\n",
       "<style scoped>\n",
       "    .dataframe tbody tr th:only-of-type {\n",
       "        vertical-align: middle;\n",
       "    }\n",
       "\n",
       "    .dataframe tbody tr th {\n",
       "        vertical-align: top;\n",
       "    }\n",
       "\n",
       "    .dataframe thead th {\n",
       "        text-align: right;\n",
       "    }\n",
       "</style>\n",
       "<table border=\"1\" class=\"dataframe\">\n",
       "  <thead>\n",
       "    <tr style=\"text-align: right;\">\n",
       "      <th></th>\n",
       "      <th>NewsDate</th>\n",
       "      <th>NewsTitle</th>\n",
       "      <th>Path</th>\n",
       "    </tr>\n",
       "  </thead>\n",
       "  <tbody>\n",
       "    <tr>\n",
       "      <td>0</td>\n",
       "      <td>20200416</td>\n",
       "      <td>네이버 먹거리, 우리가 키운다 vs 카카오 같이 키우실 분</td>\n",
       "      <td>..\\rawdata\\기업별 관련기사\\IT\\네이버\\20200416 네이버 먹거리, 우...</td>\n",
       "    </tr>\n",
       "    <tr>\n",
       "      <td>1</td>\n",
       "      <td>20200421</td>\n",
       "      <td>창업부터 독립까지 밀어준다…사내벤처 3곳 키우는 우리금융</td>\n",
       "      <td>..\\rawdata\\기업별 관련기사\\IT\\우리에프아이에스\\20200421 창업부터 ...</td>\n",
       "    </tr>\n",
       "    <tr>\n",
       "      <td>2</td>\n",
       "      <td>20200416</td>\n",
       "      <td>네이버 먹거리, 우리가 키운다 vs 카카오 같이 키우실 분</td>\n",
       "      <td>..\\rawdata\\기업별 관련기사\\IT\\카카오\\20200416 네이버 먹거리, 우...</td>\n",
       "    </tr>\n",
       "    <tr>\n",
       "      <td>3</td>\n",
       "      <td>20200204</td>\n",
       "      <td>보험업계는 '제로성장'이라는데, 은행들은 왜 보험사를 사들일까</td>\n",
       "      <td>..\\rawdata\\기업별 관련기사\\_공통\\20200204 보험업계는 '제로성장'이...</td>\n",
       "    </tr>\n",
       "    <tr>\n",
       "      <td>4</td>\n",
       "      <td>20200206</td>\n",
       "      <td>'디지털' 속도 내는 보험업계…디지털보험사 줄잇는다</td>\n",
       "      <td>..\\rawdata\\기업별 관련기사\\_공통\\20200206 '디지털' 속도 내는 보...</td>\n",
       "    </tr>\n",
       "  </tbody>\n",
       "</table>\n",
       "</div>"
      ],
      "text/plain": [
       "   NewsDate                           NewsTitle  \\\n",
       "0  20200416    네이버 먹거리, 우리가 키운다 vs 카카오 같이 키우실 분   \n",
       "1  20200421     창업부터 독립까지 밀어준다…사내벤처 3곳 키우는 우리금융   \n",
       "2  20200416    네이버 먹거리, 우리가 키운다 vs 카카오 같이 키우실 분   \n",
       "3  20200204  보험업계는 '제로성장'이라는데, 은행들은 왜 보험사를 사들일까   \n",
       "4  20200206        '디지털' 속도 내는 보험업계…디지털보험사 줄잇는다   \n",
       "\n",
       "                                                Path  \n",
       "0  ..\\rawdata\\기업별 관련기사\\IT\\네이버\\20200416 네이버 먹거리, 우...  \n",
       "1  ..\\rawdata\\기업별 관련기사\\IT\\우리에프아이에스\\20200421 창업부터 ...  \n",
       "2  ..\\rawdata\\기업별 관련기사\\IT\\카카오\\20200416 네이버 먹거리, 우...  \n",
       "3  ..\\rawdata\\기업별 관련기사\\_공통\\20200204 보험업계는 '제로성장'이...  \n",
       "4  ..\\rawdata\\기업별 관련기사\\_공통\\20200206 '디지털' 속도 내는 보...  "
      ]
     },
     "execution_count": 95,
     "metadata": {},
     "output_type": "execute_result"
    }
   ],
   "source": [
    "import pandas as pd\n",
    "\n",
    "df = pd.DataFrame({\"NewsDate\": news_date, \"NewsTitle\": news_title, \"Path\": file_list})\n",
    "df.head()"
   ]
  },
  {
   "cell_type": "code",
   "execution_count": 96,
   "metadata": {},
   "outputs": [
    {
     "name": "stdout",
     "output_type": "stream",
     "text": [
      "<class 'pandas.core.frame.DataFrame'>\n",
      "RangeIndex: 343 entries, 0 to 342\n",
      "Data columns (total 3 columns):\n",
      "NewsDate     343 non-null object\n",
      "NewsTitle    343 non-null object\n",
      "Path         343 non-null object\n",
      "dtypes: object(3)\n",
      "memory usage: 8.2+ KB\n"
     ]
    }
   ],
   "source": [
    "df.info()"
   ]
  },
  {
   "cell_type": "code",
   "execution_count": null,
   "metadata": {},
   "outputs": [],
   "source": []
  }
 ],
 "metadata": {
  "kernelspec": {
   "display_name": "Python 3",
   "language": "python",
   "name": "python3"
  },
  "language_info": {
   "codemirror_mode": {
    "name": "ipython",
    "version": 3
   },
   "file_extension": ".py",
   "mimetype": "text/x-python",
   "name": "python",
   "nbconvert_exporter": "python",
   "pygments_lexer": "ipython3",
   "version": "3.7.4"
  }
 },
 "nbformat": 4,
 "nbformat_minor": 4
}
